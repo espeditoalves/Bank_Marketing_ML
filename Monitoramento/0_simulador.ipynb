{
 "cells": [
  {
   "cell_type": "code",
   "execution_count": 4,
   "metadata": {},
   "outputs": [
    {
     "name": "stdout",
     "output_type": "stream",
     "text": [
      "Logado no diretório: /home/jovyan/work\n"
     ]
    }
   ],
   "source": [
    "import os\n",
    "import sys\n",
    "\n",
    "diretorio_atual = os.getcwd()\n",
    "print(f\"Logado no diretório: {diretorio_atual}\")\n",
    "sys.path.append('/home/jovyan/work')"
   ]
  },
  {
   "cell_type": "code",
   "execution_count": 7,
   "metadata": {},
   "outputs": [],
   "source": [
    "import pandas as pd\n",
    "import numpy as np\n",
    "from sklearn.preprocessing import StandardScaler, OneHotEncoder\n",
    "from datetime import datetime, timedelta\n",
    "\n",
    "# Leitura dos dados originais\n",
    "dados = pd.read_csv('./data/bank-additional/bank-additional-full.csv', sep=';')\n",
    "\n",
    "# Variáveis numéricas e categóricas\n",
    "variaveis_numericas = ['age', 'campaign', 'pdays', 'previous', 'emp.var.rate', 'cons.price.idx', 'cons.conf.idx', 'euribor3m', 'nr.employed']\n",
    "variaveis_categoricas = ['job', 'marital', 'education', 'default', 'housing', 'loan', 'contact', 'month', 'day_of_week', 'poutcome']\n",
    "\n",
    "# Separando a variável alvo\n",
    "y = dados['y']\n",
    "X = dados.drop(columns=['y'])\n",
    "\n",
    "# Gerador de dados sintéticos\n",
    "def gerar_dados_sinteticos(X, y, n_samples=90000):\n",
    "    dados_sinteticos = pd.DataFrame(columns=X.columns)\n",
    "    \n",
    "    for col in X.columns:\n",
    "        if X[col].dtype == 'object':\n",
    "            dados_sinteticos[col] = np.random.choice(X[col].unique(), size=n_samples, replace=True)\n",
    "        else:\n",
    "            dados_sinteticos[col] = np.random.normal(X[col].mean(), X[col].std(), size=n_samples)\n",
    "    \n",
    "    y_sintetico = np.random.choice(y.unique(), size=n_samples, replace=True)\n",
    "    \n",
    "    return dados_sinteticos, y_sintetico\n",
    "\n",
    "\n",
    "def salvar_dados_sinteticos_com_data(safra, n_samples, alterar_distribuicao=False):\n",
    "    # Gerando dados sintéticos\n",
    "    X_sintetico, y_sintetico = gerar_dados_sinteticos(X, y, n_samples)\n",
    "    \n",
    "    # Alterar a distribuição das variáveis para algumas safras\n",
    "    if alterar_distribuicao:\n",
    "        for col in variaveis_numericas:\n",
    "            X_sintetico[col] = X_sintetico[col] * np.random.uniform(0.5, 1.5, size=n_samples)\n",
    "        for col in variaveis_categoricas:\n",
    "            X_sintetico[col] = np.random.choice(X[col].unique(), size=n_samples, replace=True)\n",
    "    \n",
    "    # Adicionando a data ao DataFrame\n",
    "    X_sintetico['data'] = safra.strftime('%Y-%m-%d')\n",
    "    X_sintetico['y'] = y_sintetico\n",
    "    \n",
    "    # Salvando os dados sintéticos em CSV\n",
    "    X_sintetico.to_csv(f'./data/Monitoramento/{safra.strftime(\"%Y_%m_%d\")}_bank_markting.csv', index=False)\n",
    "\n",
    "# Inicializando a data\n",
    "safra = datetime(2020, 11, 25)\n",
    "i = 0\n",
    "while i < 30:\n",
    "    if i % 3 == 0:  # Adiciona ruído a cada terceira safra\n",
    "        salvar_dados_sinteticos_com_data(safra, n_samples=90000, alterar_distribuicao=True)\n",
    "    else:\n",
    "        salvar_dados_sinteticos_com_data(safra, n_samples=90000)\n",
    "    safra = safra + timedelta(days=7)\n",
    "    i += 1\n"
   ]
  }
 ],
 "metadata": {
  "kernelspec": {
   "display_name": "Python 3 (ipykernel)",
   "language": "python",
   "name": "python3"
  },
  "language_info": {
   "codemirror_mode": {
    "name": "ipython",
    "version": 3
   },
   "file_extension": ".py",
   "mimetype": "text/x-python",
   "name": "python",
   "nbconvert_exporter": "python",
   "pygments_lexer": "ipython3",
   "version": "3.11.6"
  }
 },
 "nbformat": 4,
 "nbformat_minor": 2
}
